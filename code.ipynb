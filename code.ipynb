import pandas as pd
import numpy as np
import matplotlib.pyplot as plt
import sklearn
from sklearn.model_selection import train_test_split
from sklearn.metrics import mean_squared_error
from math import sqrt
import keras
from keras.models import Sequential
from keras.layers import Dense
df=pd.read_csv("/content/GPA(1) - Sheet1.csv")
df.head()
df = df.drop(['SUM'],axis=1)
df.tail()
print(df.shape)
df.describe()
Df.columns
X = df[['s1', 's2', 's3', 's4', 's5', 's6',]]
y = df[['GPA']]
from sklearn.preprocessing import StandardScaler
sc_X = StandardScaler()
sc_y = StandardScaler()
X = sc_X.fit_transform(X)
y = sc_y.fit_transform(y)
X_train, X_test, y_train, y_test = train_test_split(X, y, test_size=0.30, random_state=40)
print(X_train.shape); print(X_test.shape)
print(y_train.shape);print(y_test.shape)
from keras.layers.core import Dense, Activation, Dropout
from keras.layers.recurrent import LSTM
from keras.models import Sequential
23
model=Sequential()
model.add(LSTM(16, return_sequences=True, activation='relu'))
model.add(LSTM(16, activation='relu'))
model.add(Dense(32, activation='relu'))
model = Sequential()
model.add(Dense(12, input_dim=6, kernel_initializer='normal', activation= "relu"))
model.add(Dense(8, activation= "relu"))
model.add(Dense(1, activation= "linear")
model.compile(loss='mse', optimizer='adam', metrics=['mse','mae'])
history = model.fit(X_train, y_train, epochs=150, verbose=1, validation_split=0.5)
def add(arr,c,r):
for i in range(r):
arr[i][0] = int(input("Enter Student ID : "))
for j in range(c):
arr[i][j+1] = int(input("Enter Marks : "))
return arr
c = int(input("Enter no.of Subjects : "))
r = int(input("Enter no.of Students : "))
arr = [[0 for q in range(c + 1)] for q in range(r)]
add(arr,c,r)
import numpy as np
Xnew=np.empty(5,dtype=object)
i=0
lt = []
while(i<r):
sub=1
l = []
while(sub<=6):
Xnew[i] = np.array(arr[i][sub])
l.append(Xnew[i])
sub=sub+1;
print(Xnew[i])
lt.append(l)
print("\n")
24
i=i+1
print(lt)
percent = []
for item in lt:
Xnew = np.array([item])
Xnew= sc_X.transform(Xnew)
ynew= model.predict(Xnew)
ynew = sc_y.inverse_transform(ynew)
Xnew = sc_X.inverse_transform(Xnew)
print("Marks=%s, GPA=%s" % (Xnew[0], ynew[0]))
print()
percentage = ynew[0]*9.5
percent.append(float(percentage))
print("Percentage = " + str(percentage))
print(percent)
dataset = pd.read_csv("/content/placements (1).csv")
dataset.head()
dataset.tail()
from sklearn import preprocessing
label_en = preprocessing.LabelEncoder()
dataset['cname'] = label_en.fit_transform(dataset['cname'])
X = dataset.iloc[:, 2:6].values.astype(int)
y = dataset.iloc[:, 0].values.astype(int)
from sklearn.model_selection import train_test_split
X_train, X_test, y_train, y_test = train_test_split(X, y, test_size=0.3, random_state=0)
from sklearn.ensemble import RandomForestClassifier
regressor = RandomForestClassifier(n_estimators=40, random_state=0)
regressor.fit(X_train, y_train)
y_pred = regressor.predict(X_test)
lx = []
for i in arr:
lx.append(i)
k = 0
for p in percent:
25
y_new_pred = regressor.predict([[p,1,0,1]])
lx[k].append(int(y_new_pred))
k+=1
for i in lx:
i[9] = int(i[9])
print(i[:8])
from sklearn.metrics import classification_report, confusion_matrix, accuracy_score
print(confusion_matrix(y_test,y_pred))
print(classification_report(y_test,y_pred))
print(accuracy_score(y_test, y_pred))
CODE 2: Implementing GUI
from tkinter import messagebox
from tkinter import *
from tkinter import simpledialog
import tkinter
from tkinter import filedialog
import matplotlib.pyplot as plt
import numpy as np
from tkinter.filedialog import askopenfilename
import numpy as np
import pandas as pd
from sklearn import *
from sklearn.model_selection import train_test_split
from sklearn.metrics import accuracy_score
from sklearn.metrics import classification_report
from sklearn.ensemble import RandomForestClassifier
#from sklearn.tree import export_graphviz
#from IPython import display
26
import matplotlib.pyplot as plt
import sklearn
from sklearn.model_selection import train_test_split
from sklearn.metrics import mean_squared_error
from math import sqrt
import keras
from keras.models import Sequential
from keras.layers import Dense
main = tkinter.Tk()
main.title("GPA PREDICTION FOR PLACEMENT ASSISSTANCE") #designing main
screen
main.geometry("1300x1200")
global filename
global cls
global X, Y, X_train, X_test, y_train, y_test
global random_acc # all global variables names define in above lines
global clean
global attack
global total
global percentage
global sc_X
global sc_y
def traintest(train): #method to generate test and train data from dataset
global df
global sc_X
global sc_y
27
global X, Y, X_train, X_test, y_train, y_test
X = df[['s1', 's2', 's3', 's4', 's5', 's6',]]
y = df[['GPA']]
from sklearn.preprocessing import StandardScaler
sc_X = StandardScaler()
sc_y = StandardScaler()
X = sc_X.fit_transform(X)
y = sc_y.fit_transform(y)
X_train, X_test, y_train, y_test = train_test_split(X, y, test_size=0.30, random_state=40)
return X, Y, X_train, X_test, y_train, y_test
def generateModel(): #method to read dataset values which contains all five features data
global X, Y, X_train, X_test, y_train, y_test
global df
train = pd.read_csv(filename)
df = train.drop(['SUM'],axis=1)
df.head()
df.tail()
print(df.shape)
df.describe()
df.columns
global X, Y, X_train, X_test, y_train, y_test
X, Y, X_train, X_test, y_train, y_test = traintest(train)
text.insert(END,"Train & Test Model Generated\n\n")
text.insert(END,"Total Dataset Size : "+str(len(train))+"\n")
text.insert(END,"Split Training Size : "+str(len(X_train))+"\n")
text.insert(END,"Split Test Size : "+str(len(X_test))+"\n"
def upload(): #function to upload tweeter profile
28
global filename
global df
filename = filedialog.askopenfilename(initialdir="dataset")
text.delete('1.0', END)
text.insert(END,filename+" loaded\n")
def prediction(X_test, cls): #prediction done here
y_pred = cls.predict(X_test)
for i in range(50):
print("X=%s, Predicted=%s" % (X_test[i], y_pred[i]))
return y_pred
def lstm():
global sc_X
global sc_y
global percentage
from keras.layers.core import Dense, Activation, Dropout
from keras.layers.recurrent import LSTM
from keras.models import Sequential
model=Sequential()
model.add(LSTM(16, return_sequences=True, activation='relu'))
model.add(LSTM(16, activation='relu'))
model.add(Dense(32, activation='relu'))
model = Sequential()
model.add(Dense(12, input_dim=6, kernel_initializer='normal', activation= "relu"))
model.add(Dense(8, activation= "relu"))
model.add(Dense(1, activation= "linear"))
29
model.compile(loss='mean_squared_error', optimizer='adam',
metrics=['accuracy','mae','mse'])
history = model.fit(X_train, y_train, epochs=550, verbose=2, validation_split=0.5)
Xnew = np.array([[72,84,98,80,94,78]])
Xnew= sc_X.transform(Xnew)
ynew= model.predict(Xnew)
ynew = sc_y.inverse_transform(ynew)
Xnew = sc_X.inverse_transform(Xnew)
print("Marks=%s, GPA=%s" % (Xnew[0], ynew[0]))
percentage=ynew[0]*9.5
print(percentage)
text.insert(END,"GPA : "+str(ynew[0])+"\n\n")
''global random_acc
global cls
global X, Y, X_train, X_test, y_train, y_test
cls =
RandomForestClassifier(n_estimators=50,max_depth=2,random_state=0,class_weight='ba
lanced')
cls.fit(X_train, y_train)
text.insert(END,"Prediction Results\n\n")
prediction_data = prediction(X_test, cls)
random_acc = cal_accuracy(y_test, prediction_data,'Random Forest Accuracy')
#str_tree = export_graphviz(cls, out_file=None, feature_names=headers,filled=True,
special_characters=True, rotate=True, precision=0.6)
#display.display(str_tree)'''
Def predicts():
dataset=pd.read_csv('C:/Users/HP/OneDrive/Desktop/STUDENTGPA/dataset/placement.
csv')
dataset.head()
30
dataset.tail()
from sklearn import preprocessing
label_en = preprocessing.LabelEncoder()
dataset['cname'] = label_en.fit_transform(dataset['cname'])
X = dataset.iloc[:, 2:6].values.astype(int)
y = dataset.iloc[:, 0].values.astype(int)
from sklearn.model_selection import train_test_split
X_train, X_test, y_train, y_test = train_test_split(X, y, test_size=0.3, random_state=0)
from sklearn.ensemble import RandomForestClassifier
regressor = RandomForestClassifier(n_estimators=40, random_state=0)
regressor.fit(X_train, y_train)
y_pred = regressor.predict(X_test)
y_new_pred = regressor.predict([[percentage,1,0,1]])
print(y_new_pred)
if(y_new_pred==5):
text.insert(END,"Company name : "+'Optum'+"\n\n")
else:
text.insert(END,"Company name : "+str(nocompany)+"\n\n")
text.insert(END,"Companu no : "+str(y_new_pred)+"\n\n")
from sklearn.metrics import classification_report, confusion_matrix, accuracy_score
print(confusion_matrix(y_test,y_pred))
text.insert(END,"confusion_matrix : "+str(confusion_matrix(y_test,y_pred))+"\n\n")
print(classification_report(y_test,y_pred))
text.insert(END,"classification_report :
"+str(classification_report(y_test,y_pred))+"\n\n")
print(accuracy_score(y_test, y_pred))
text.insert(END,"accuracy_score : "+str(accuracy_score(y_test, y_pred))+"\n\n")
31
font = ('times', 16, 'bold')
title = Label(main, text='GPA PREDICTION FOR PLACEMENT ASSISSTANCE')
title.config(bg='pink', fg='dodger blue')
title.config(font=font)
title.config(height=3, width=120)
title.place(x=0,y=5)
font1 = ('times', 12, 'bold')
text=Text(main,height=20,width=150)
scroll=Scrollbar(text)
text.configure(yscrollcommand=scroll.set)
text.place(x=50,y=120)
text.config(font=font1)
font1 = ('times', 14, 'bold')
uploadButton = Button(main, text="Upload Dataset", command=upload)
uploadButton.place(x=50,y=550)
uploadButton.config(font=font1)
modelButton = Button(main, text="Generate Train & Test Model",
command=generateModel)
modelButton.place(x=350,y=550)
modelButton.config(font=font1)
runrandomButton = Button(main, text="RNN + LSTM Algorithm", command=lstm)
runrandomButton.place(x=650,y=550)
runrandomButton.config(font=font1)
predictButton = Button(main, text="PREDICT COMPANY NAME", command=predicts)
predictButton.place(x=50,y=600)
predictButton.config(font=font1)
exitButton = Button(main, text="Exit", command=exit)
32
exitButton.place(x=770,y=600)
exitButton.config(font=font1)
main.config(bg='LightSkyBlue')
main.mainloop()
